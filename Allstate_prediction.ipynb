{
 "cells": [
  {
   "cell_type": "markdown",
   "metadata": {},
   "source": [
    "<h1> Allstate Prediction Challenge</h1>\n",
    "<br>\n",
    "In this project, we need to predict which car insurance policy would a customer choose based on his car insurance history, location, age of car, value of car, etc."
   ]
  },
  {
   "cell_type": "code",
   "execution_count": 1,
   "metadata": {},
   "outputs": [],
   "source": [
    "#Getting Libraries\n",
    "import numpy as np\n",
    "import pandas as pd\n",
    "from pandas import Series, DataFrame\n",
    "import matplotlib.pyplot as plt\n",
    "import seaborn as sns\n",
    "%matplotlib inline\n",
    "from sklearn.linear_model import LogisticRegression\n",
    "from sklearn.linear_model import LinearRegression\n",
    "from sklearn import datasets\n",
    "from sklearn.preprocessing import StandardScaler\n",
    "import matplotlib.pyplot as plt\n",
    "from sklearn.model_selection import train_test_split\n",
    "from sklearn.ensemble import RandomForestClassifier\n",
    "from sklearn.model_selection import GridSearchCV"
   ]
  },
  {
   "cell_type": "code",
   "execution_count": 2,
   "metadata": {},
   "outputs": [],
   "source": [
    "given_data = pd.read_csv('train_allstate.csv')"
   ]
  },
  {
   "cell_type": "code",
   "execution_count": 3,
   "metadata": {
    "scrolled": false
   },
   "outputs": [
    {
     "data": {
      "text/html": [
       "<div>\n",
       "<style scoped>\n",
       "    .dataframe tbody tr th:only-of-type {\n",
       "        vertical-align: middle;\n",
       "    }\n",
       "\n",
       "    .dataframe tbody tr th {\n",
       "        vertical-align: top;\n",
       "    }\n",
       "\n",
       "    .dataframe thead th {\n",
       "        text-align: right;\n",
       "    }\n",
       "</style>\n",
       "<table border=\"1\" class=\"dataframe\">\n",
       "  <thead>\n",
       "    <tr style=\"text-align: right;\">\n",
       "      <th></th>\n",
       "      <th>customer_ID</th>\n",
       "      <th>shopping_pt</th>\n",
       "      <th>record_type</th>\n",
       "      <th>day</th>\n",
       "      <th>time</th>\n",
       "      <th>state</th>\n",
       "      <th>location</th>\n",
       "      <th>group_size</th>\n",
       "      <th>homeowner</th>\n",
       "      <th>car_age</th>\n",
       "      <th>...</th>\n",
       "      <th>C_previous</th>\n",
       "      <th>duration_previous</th>\n",
       "      <th>A</th>\n",
       "      <th>B</th>\n",
       "      <th>C</th>\n",
       "      <th>D</th>\n",
       "      <th>E</th>\n",
       "      <th>F</th>\n",
       "      <th>G</th>\n",
       "      <th>cost</th>\n",
       "    </tr>\n",
       "  </thead>\n",
       "  <tbody>\n",
       "    <tr>\n",
       "      <th>0</th>\n",
       "      <td>10000000</td>\n",
       "      <td>1</td>\n",
       "      <td>0</td>\n",
       "      <td>0</td>\n",
       "      <td>08:35</td>\n",
       "      <td>IN</td>\n",
       "      <td>10001</td>\n",
       "      <td>2</td>\n",
       "      <td>0</td>\n",
       "      <td>2</td>\n",
       "      <td>...</td>\n",
       "      <td>1.0</td>\n",
       "      <td>2.0</td>\n",
       "      <td>1</td>\n",
       "      <td>0</td>\n",
       "      <td>2</td>\n",
       "      <td>2</td>\n",
       "      <td>1</td>\n",
       "      <td>2</td>\n",
       "      <td>2</td>\n",
       "      <td>633</td>\n",
       "    </tr>\n",
       "    <tr>\n",
       "      <th>1</th>\n",
       "      <td>10000000</td>\n",
       "      <td>2</td>\n",
       "      <td>0</td>\n",
       "      <td>0</td>\n",
       "      <td>08:38</td>\n",
       "      <td>IN</td>\n",
       "      <td>10001</td>\n",
       "      <td>2</td>\n",
       "      <td>0</td>\n",
       "      <td>2</td>\n",
       "      <td>...</td>\n",
       "      <td>1.0</td>\n",
       "      <td>2.0</td>\n",
       "      <td>1</td>\n",
       "      <td>0</td>\n",
       "      <td>2</td>\n",
       "      <td>2</td>\n",
       "      <td>1</td>\n",
       "      <td>2</td>\n",
       "      <td>1</td>\n",
       "      <td>630</td>\n",
       "    </tr>\n",
       "    <tr>\n",
       "      <th>2</th>\n",
       "      <td>10000000</td>\n",
       "      <td>3</td>\n",
       "      <td>0</td>\n",
       "      <td>0</td>\n",
       "      <td>08:38</td>\n",
       "      <td>IN</td>\n",
       "      <td>10001</td>\n",
       "      <td>2</td>\n",
       "      <td>0</td>\n",
       "      <td>2</td>\n",
       "      <td>...</td>\n",
       "      <td>1.0</td>\n",
       "      <td>2.0</td>\n",
       "      <td>1</td>\n",
       "      <td>0</td>\n",
       "      <td>2</td>\n",
       "      <td>2</td>\n",
       "      <td>1</td>\n",
       "      <td>2</td>\n",
       "      <td>1</td>\n",
       "      <td>630</td>\n",
       "    </tr>\n",
       "    <tr>\n",
       "      <th>3</th>\n",
       "      <td>10000000</td>\n",
       "      <td>4</td>\n",
       "      <td>0</td>\n",
       "      <td>0</td>\n",
       "      <td>08:39</td>\n",
       "      <td>IN</td>\n",
       "      <td>10001</td>\n",
       "      <td>2</td>\n",
       "      <td>0</td>\n",
       "      <td>2</td>\n",
       "      <td>...</td>\n",
       "      <td>1.0</td>\n",
       "      <td>2.0</td>\n",
       "      <td>1</td>\n",
       "      <td>0</td>\n",
       "      <td>2</td>\n",
       "      <td>2</td>\n",
       "      <td>1</td>\n",
       "      <td>2</td>\n",
       "      <td>1</td>\n",
       "      <td>630</td>\n",
       "    </tr>\n",
       "    <tr>\n",
       "      <th>4</th>\n",
       "      <td>10000000</td>\n",
       "      <td>5</td>\n",
       "      <td>0</td>\n",
       "      <td>0</td>\n",
       "      <td>11:55</td>\n",
       "      <td>IN</td>\n",
       "      <td>10001</td>\n",
       "      <td>2</td>\n",
       "      <td>0</td>\n",
       "      <td>2</td>\n",
       "      <td>...</td>\n",
       "      <td>1.0</td>\n",
       "      <td>2.0</td>\n",
       "      <td>1</td>\n",
       "      <td>0</td>\n",
       "      <td>2</td>\n",
       "      <td>2</td>\n",
       "      <td>1</td>\n",
       "      <td>2</td>\n",
       "      <td>1</td>\n",
       "      <td>630</td>\n",
       "    </tr>\n",
       "  </tbody>\n",
       "</table>\n",
       "<p>5 rows × 25 columns</p>\n",
       "</div>"
      ],
      "text/plain": [
       "   customer_ID  shopping_pt  record_type  day   time state  location  \\\n",
       "0     10000000            1            0    0  08:35    IN     10001   \n",
       "1     10000000            2            0    0  08:38    IN     10001   \n",
       "2     10000000            3            0    0  08:38    IN     10001   \n",
       "3     10000000            4            0    0  08:39    IN     10001   \n",
       "4     10000000            5            0    0  11:55    IN     10001   \n",
       "\n",
       "   group_size  homeowner  car_age  ...  C_previous  duration_previous  A  B  \\\n",
       "0           2          0        2  ...         1.0                2.0  1  0   \n",
       "1           2          0        2  ...         1.0                2.0  1  0   \n",
       "2           2          0        2  ...         1.0                2.0  1  0   \n",
       "3           2          0        2  ...         1.0                2.0  1  0   \n",
       "4           2          0        2  ...         1.0                2.0  1  0   \n",
       "\n",
       "   C  D  E  F  G  cost  \n",
       "0  2  2  1  2  2   633  \n",
       "1  2  2  1  2  1   630  \n",
       "2  2  2  1  2  1   630  \n",
       "3  2  2  1  2  1   630  \n",
       "4  2  2  1  2  1   630  \n",
       "\n",
       "[5 rows x 25 columns]"
      ]
     },
     "execution_count": 3,
     "metadata": {},
     "output_type": "execute_result"
    }
   ],
   "source": [
    "given_data.head()"
   ]
  },
  {
   "cell_type": "code",
   "execution_count": 4,
   "metadata": {},
   "outputs": [
    {
     "name": "stdout",
     "output_type": "stream",
     "text": [
      "<class 'pandas.core.frame.DataFrame'>\n",
      "RangeIndex: 665249 entries, 0 to 665248\n",
      "Data columns (total 25 columns):\n",
      "customer_ID          665249 non-null int64\n",
      "shopping_pt          665249 non-null int64\n",
      "record_type          665249 non-null int64\n",
      "day                  665249 non-null int64\n",
      "time                 665249 non-null object\n",
      "state                665249 non-null object\n",
      "location             665249 non-null int64\n",
      "group_size           665249 non-null int64\n",
      "homeowner            665249 non-null int64\n",
      "car_age              665249 non-null int64\n",
      "car_value            663718 non-null object\n",
      "risk_factor          424831 non-null float64\n",
      "age_oldest           665249 non-null int64\n",
      "age_youngest         665249 non-null int64\n",
      "married_couple       665249 non-null int64\n",
      "C_previous           646538 non-null float64\n",
      "duration_previous    646538 non-null float64\n",
      "A                    665249 non-null int64\n",
      "B                    665249 non-null int64\n",
      "C                    665249 non-null int64\n",
      "D                    665249 non-null int64\n",
      "E                    665249 non-null int64\n",
      "F                    665249 non-null int64\n",
      "G                    665249 non-null int64\n",
      "cost                 665249 non-null int64\n",
      "dtypes: float64(3), int64(19), object(3)\n",
      "memory usage: 126.9+ MB\n"
     ]
    }
   ],
   "source": [
    "given_data.info()"
   ]
  },
  {
   "attachments": {
    "product_options.png": {
     "image/png": "[encoded data removed]"
    }
   },
   "cell_type": "markdown",
   "metadata": {},
   "source": [
    "# Product Options\n",
    "\n",
    "Each product has 7 customizable options selected by customers, each with 2, 3, or 4 ordinal values possible:\n",
    "\n",
    "![product_options.png](attachment:product_options.png)\n",
    "\n",
    "A product is simply a vector with length 7 whose values are chosen from each of the options listed above. The cost of a product is a function of both the product options and customer characteristics.\n",
    "\n",
    "# Variable Descriptions\n",
    "\n",
    "<b>customer_ID</b> - A unique identifier for the customer<br>\n",
    "<b>shopping_pt</b> - Unique identifier for the shopping point of a given customer<br>\n",
    "<b>record_type</b> - 0=shopping point, 1=purchase point<br>\n",
    "<b>day</b> - Day of the week (0-6, 0=Monday)<br>\n",
    "<b>time</b> - Time of day (HH:MM)<br>\n",
    "<b>state</b> - State where shopping point occurred<br>\n",
    "<b>location</b> - Location ID where shopping point occurred<br>\n",
    "<b>group_size</b> - How many people will be covered under the policy (1, 2, 3 or 4)<br>\n",
    "<b>homeowner</b> - Whether the customer owns a home or not (0=no, 1=yes)<br>\n",
    "<b>car_age</b> - Age of the customer’s car<br>\n",
    "<b>car_value</b> - How valuable was the customer’s car when new<br>\n",
    "<b>risk_factor</b> - An ordinal assessment of how risky the customer is (1, 2, 3, 4)<br>\n",
    "<b>age_oldest</b> - Age of the oldest person in customer's group<br>\n",
    "<b>age_youngest</b> - Age of the youngest person in customer’s group<br>\n",
    "<b>married_couple</b> - Does the customer group contain a married couple (0=no, 1=yes)<br>\n",
    "<b>C_previous</b> - What the customer formerly had or currently has for product option C (0=nothing, 1, 2, 3,4)<br>\n",
    "<b>duration_previous</b> -  how long (in years) the customer was covered by their previous issuer<br>\n",
    "<b>A,B,C,D,E,F,G</b> - the coverage options<br>\n",
    "<b>cost</b> - cost of the quoted coverage options<br>"
   ]
  },
  {
   "cell_type": "code",
   "execution_count": 5,
   "metadata": {},
   "outputs": [],
   "source": [
    "train = pd.read_csv('train_allstate.csv')\n",
    "\n",
    "test = pd.read_csv('test_v2.csv')\n",
    "\n",
    "train_idx = len(train)\n"
   ]
  },
  {
   "cell_type": "markdown",
   "metadata": {},
   "source": [
    "Reading training and testing data<br>"
   ]
  },
  {
   "cell_type": "code",
   "execution_count": 6,
   "metadata": {
    "scrolled": false
   },
   "outputs": [
    {
     "data": {
      "text/html": [
       "<div>\n",
       "<style scoped>\n",
       "    .dataframe tbody tr th:only-of-type {\n",
       "        vertical-align: middle;\n",
       "    }\n",
       "\n",
       "    .dataframe tbody tr th {\n",
       "        vertical-align: top;\n",
       "    }\n",
       "\n",
       "    .dataframe thead th {\n",
       "        text-align: right;\n",
       "    }\n",
       "</style>\n",
       "<table border=\"1\" class=\"dataframe\">\n",
       "  <thead>\n",
       "    <tr style=\"text-align: right;\">\n",
       "      <th></th>\n",
       "      <th>customer_ID</th>\n",
       "      <th>shopping_pt</th>\n",
       "      <th>record_type</th>\n",
       "      <th>day</th>\n",
       "      <th>location</th>\n",
       "      <th>group_size</th>\n",
       "      <th>homeowner</th>\n",
       "      <th>car_age</th>\n",
       "      <th>risk_factor</th>\n",
       "      <th>age_oldest</th>\n",
       "      <th>...</th>\n",
       "      <th>C_previous</th>\n",
       "      <th>duration_previous</th>\n",
       "      <th>A</th>\n",
       "      <th>B</th>\n",
       "      <th>C</th>\n",
       "      <th>D</th>\n",
       "      <th>E</th>\n",
       "      <th>F</th>\n",
       "      <th>G</th>\n",
       "      <th>cost</th>\n",
       "    </tr>\n",
       "  </thead>\n",
       "  <tbody>\n",
       "    <tr>\n",
       "      <th>count</th>\n",
       "      <td>6.652490e+05</td>\n",
       "      <td>665249.000000</td>\n",
       "      <td>665249.000000</td>\n",
       "      <td>665249.000000</td>\n",
       "      <td>665249.000000</td>\n",
       "      <td>665249.000000</td>\n",
       "      <td>665249.000000</td>\n",
       "      <td>665249.000000</td>\n",
       "      <td>424831.000000</td>\n",
       "      <td>665249.000000</td>\n",
       "      <td>...</td>\n",
       "      <td>646538.000000</td>\n",
       "      <td>646538.000000</td>\n",
       "      <td>665249.000000</td>\n",
       "      <td>665249.000000</td>\n",
       "      <td>665249.000000</td>\n",
       "      <td>665249.000000</td>\n",
       "      <td>665249.000000</td>\n",
       "      <td>665249.000000</td>\n",
       "      <td>665249.000000</td>\n",
       "      <td>665249.000000</td>\n",
       "    </tr>\n",
       "    <tr>\n",
       "      <th>mean</th>\n",
       "      <td>1.007655e+07</td>\n",
       "      <td>4.219966</td>\n",
       "      <td>0.145824</td>\n",
       "      <td>1.969429</td>\n",
       "      <td>12271.543022</td>\n",
       "      <td>1.234784</td>\n",
       "      <td>0.536229</td>\n",
       "      <td>8.139437</td>\n",
       "      <td>2.563996</td>\n",
       "      <td>44.992403</td>\n",
       "      <td>...</td>\n",
       "      <td>2.444718</td>\n",
       "      <td>6.003774</td>\n",
       "      <td>0.927546</td>\n",
       "      <td>0.454236</td>\n",
       "      <td>2.275265</td>\n",
       "      <td>2.454299</td>\n",
       "      <td>0.445193</td>\n",
       "      <td>1.162768</td>\n",
       "      <td>2.275120</td>\n",
       "      <td>635.785008</td>\n",
       "    </tr>\n",
       "    <tr>\n",
       "      <th>std</th>\n",
       "      <td>4.404978e+04</td>\n",
       "      <td>2.394369</td>\n",
       "      <td>0.352930</td>\n",
       "      <td>1.453470</td>\n",
       "      <td>1564.789415</td>\n",
       "      <td>0.461036</td>\n",
       "      <td>0.498686</td>\n",
       "      <td>5.764598</td>\n",
       "      <td>1.111584</td>\n",
       "      <td>17.403440</td>\n",
       "      <td>...</td>\n",
       "      <td>1.034596</td>\n",
       "      <td>4.680793</td>\n",
       "      <td>0.595221</td>\n",
       "      <td>0.497902</td>\n",
       "      <td>0.990798</td>\n",
       "      <td>0.753953</td>\n",
       "      <td>0.496987</td>\n",
       "      <td>0.943594</td>\n",
       "      <td>0.909567</td>\n",
       "      <td>45.993758</td>\n",
       "    </tr>\n",
       "    <tr>\n",
       "      <th>min</th>\n",
       "      <td>1.000000e+07</td>\n",
       "      <td>1.000000</td>\n",
       "      <td>0.000000</td>\n",
       "      <td>0.000000</td>\n",
       "      <td>10001.000000</td>\n",
       "      <td>1.000000</td>\n",
       "      <td>0.000000</td>\n",
       "      <td>0.000000</td>\n",
       "      <td>1.000000</td>\n",
       "      <td>18.000000</td>\n",
       "      <td>...</td>\n",
       "      <td>1.000000</td>\n",
       "      <td>0.000000</td>\n",
       "      <td>0.000000</td>\n",
       "      <td>0.000000</td>\n",
       "      <td>1.000000</td>\n",
       "      <td>1.000000</td>\n",
       "      <td>0.000000</td>\n",
       "      <td>0.000000</td>\n",
       "      <td>1.000000</td>\n",
       "      <td>260.000000</td>\n",
       "    </tr>\n",
       "    <tr>\n",
       "      <th>25%</th>\n",
       "      <td>1.003852e+07</td>\n",
       "      <td>2.000000</td>\n",
       "      <td>0.000000</td>\n",
       "      <td>1.000000</td>\n",
       "      <td>10936.000000</td>\n",
       "      <td>1.000000</td>\n",
       "      <td>0.000000</td>\n",
       "      <td>3.000000</td>\n",
       "      <td>2.000000</td>\n",
       "      <td>28.000000</td>\n",
       "      <td>...</td>\n",
       "      <td>1.000000</td>\n",
       "      <td>2.000000</td>\n",
       "      <td>1.000000</td>\n",
       "      <td>0.000000</td>\n",
       "      <td>1.000000</td>\n",
       "      <td>2.000000</td>\n",
       "      <td>0.000000</td>\n",
       "      <td>0.000000</td>\n",
       "      <td>2.000000</td>\n",
       "      <td>605.000000</td>\n",
       "    </tr>\n",
       "    <tr>\n",
       "      <th>50%</th>\n",
       "      <td>1.007640e+07</td>\n",
       "      <td>4.000000</td>\n",
       "      <td>0.000000</td>\n",
       "      <td>2.000000</td>\n",
       "      <td>12027.000000</td>\n",
       "      <td>1.000000</td>\n",
       "      <td>1.000000</td>\n",
       "      <td>7.000000</td>\n",
       "      <td>3.000000</td>\n",
       "      <td>44.000000</td>\n",
       "      <td>...</td>\n",
       "      <td>3.000000</td>\n",
       "      <td>5.000000</td>\n",
       "      <td>1.000000</td>\n",
       "      <td>0.000000</td>\n",
       "      <td>2.000000</td>\n",
       "      <td>3.000000</td>\n",
       "      <td>0.000000</td>\n",
       "      <td>1.000000</td>\n",
       "      <td>2.000000</td>\n",
       "      <td>635.000000</td>\n",
       "    </tr>\n",
       "    <tr>\n",
       "      <th>75%</th>\n",
       "      <td>1.011470e+07</td>\n",
       "      <td>6.000000</td>\n",
       "      <td>0.000000</td>\n",
       "      <td>3.000000</td>\n",
       "      <td>13426.000000</td>\n",
       "      <td>1.000000</td>\n",
       "      <td>1.000000</td>\n",
       "      <td>12.000000</td>\n",
       "      <td>4.000000</td>\n",
       "      <td>60.000000</td>\n",
       "      <td>...</td>\n",
       "      <td>3.000000</td>\n",
       "      <td>9.000000</td>\n",
       "      <td>1.000000</td>\n",
       "      <td>1.000000</td>\n",
       "      <td>3.000000</td>\n",
       "      <td>3.000000</td>\n",
       "      <td>1.000000</td>\n",
       "      <td>2.000000</td>\n",
       "      <td>3.000000</td>\n",
       "      <td>665.000000</td>\n",
       "    </tr>\n",
       "    <tr>\n",
       "      <th>max</th>\n",
       "      <td>1.015272e+07</td>\n",
       "      <td>13.000000</td>\n",
       "      <td>1.000000</td>\n",
       "      <td>6.000000</td>\n",
       "      <td>16580.000000</td>\n",
       "      <td>4.000000</td>\n",
       "      <td>1.000000</td>\n",
       "      <td>85.000000</td>\n",
       "      <td>4.000000</td>\n",
       "      <td>75.000000</td>\n",
       "      <td>...</td>\n",
       "      <td>4.000000</td>\n",
       "      <td>15.000000</td>\n",
       "      <td>2.000000</td>\n",
       "      <td>1.000000</td>\n",
       "      <td>4.000000</td>\n",
       "      <td>3.000000</td>\n",
       "      <td>1.000000</td>\n",
       "      <td>3.000000</td>\n",
       "      <td>4.000000</td>\n",
       "      <td>922.000000</td>\n",
       "    </tr>\n",
       "  </tbody>\n",
       "</table>\n",
       "<p>8 rows × 22 columns</p>\n",
       "</div>"
      ],
      "text/plain": [
       "        customer_ID    shopping_pt    record_type            day  \\\n",
       "count  6.652490e+05  665249.000000  665249.000000  665249.000000   \n",
       "mean   1.007655e+07       4.219966       0.145824       1.969429   \n",
       "std    4.404978e+04       2.394369       0.352930       1.453470   \n",
       "min    1.000000e+07       1.000000       0.000000       0.000000   \n",
       "25%    1.003852e+07       2.000000       0.000000       1.000000   \n",
       "50%    1.007640e+07       4.000000       0.000000       2.000000   \n",
       "75%    1.011470e+07       6.000000       0.000000       3.000000   \n",
       "max    1.015272e+07      13.000000       1.000000       6.000000   \n",
       "\n",
       "            location     group_size      homeowner        car_age  \\\n",
       "count  665249.000000  665249.000000  665249.000000  665249.000000   \n",
       "mean    12271.543022       1.234784       0.536229       8.139437   \n",
       "std      1564.789415       0.461036       0.498686       5.764598   \n",
       "min     10001.000000       1.000000       0.000000       0.000000   \n",
       "25%     10936.000000       1.000000       0.000000       3.000000   \n",
       "50%     12027.000000       1.000000       1.000000       7.000000   \n",
       "75%     13426.000000       1.000000       1.000000      12.000000   \n",
       "max     16580.000000       4.000000       1.000000      85.000000   \n",
       "\n",
       "         risk_factor     age_oldest      ...           C_previous  \\\n",
       "count  424831.000000  665249.000000      ...        646538.000000   \n",
       "mean        2.563996      44.992403      ...             2.444718   \n",
       "std         1.111584      17.403440      ...             1.034596   \n",
       "min         1.000000      18.000000      ...             1.000000   \n",
       "25%         2.000000      28.000000      ...             1.000000   \n",
       "50%         3.000000      44.000000      ...             3.000000   \n",
       "75%         4.000000      60.000000      ...             3.000000   \n",
       "max         4.000000      75.000000      ...             4.000000   \n",
       "\n",
       "       duration_previous              A              B              C  \\\n",
       "count      646538.000000  665249.000000  665249.000000  665249.000000   \n",
       "mean            6.003774       0.927546       0.454236       2.275265   \n",
       "std             4.680793       0.595221       0.497902       0.990798   \n",
       "min             0.000000       0.000000       0.000000       1.000000   \n",
       "25%             2.000000       1.000000       0.000000       1.000000   \n",
       "50%             5.000000       1.000000       0.000000       2.000000   \n",
       "75%             9.000000       1.000000       1.000000       3.000000   \n",
       "max            15.000000       2.000000       1.000000       4.000000   \n",
       "\n",
       "                   D              E              F              G  \\\n",
       "count  665249.000000  665249.000000  665249.000000  665249.000000   \n",
       "mean        2.454299       0.445193       1.162768       2.275120   \n",
       "std         0.753953       0.496987       0.943594       0.909567   \n",
       "min         1.000000       0.000000       0.000000       1.000000   \n",
       "25%         2.000000       0.000000       0.000000       2.000000   \n",
       "50%         3.000000       0.000000       1.000000       2.000000   \n",
       "75%         3.000000       1.000000       2.000000       3.000000   \n",
       "max         3.000000       1.000000       3.000000       4.000000   \n",
       "\n",
       "                cost  \n",
       "count  665249.000000  \n",
       "mean      635.785008  \n",
       "std        45.993758  \n",
       "min       260.000000  \n",
       "25%       605.000000  \n",
       "50%       635.000000  \n",
       "75%       665.000000  \n",
       "max       922.000000  \n",
       "\n",
       "[8 rows x 22 columns]"
      ]
     },
     "execution_count": 6,
     "metadata": {},
     "output_type": "execute_result"
    }
   ],
   "source": [
    "# Training data description\n",
    "train.describe()"
   ]
  },
  {
   "cell_type": "markdown",
   "metadata": {},
   "source": [
    "I need to check for some missing values in the whole given data.<br>\n",
    "Therefore, I will append the test and train data.<br>"
   ]
  },
  {
   "cell_type": "code",
   "execution_count": 7,
   "metadata": {},
   "outputs": [
    {
     "name": "stdout",
     "output_type": "stream",
     "text": [
      "<class 'pandas.core.frame.DataFrame'>\n",
      "RangeIndex: 864105 entries, 0 to 864104\n",
      "Data columns (total 25 columns):\n",
      "customer_ID          864105 non-null int64\n",
      "shopping_pt          864105 non-null int64\n",
      "record_type          864105 non-null int64\n",
      "day                  864105 non-null int64\n",
      "time                 864105 non-null object\n",
      "state                864105 non-null object\n",
      "location             863427 non-null float64\n",
      "group_size           864105 non-null int64\n",
      "homeowner            864105 non-null int64\n",
      "car_age              864105 non-null int64\n",
      "car_value            861835 non-null object\n",
      "risk_factor          548200 non-null float64\n",
      "age_oldest           864105 non-null int64\n",
      "age_youngest         864105 non-null int64\n",
      "married_couple       864105 non-null int64\n",
      "C_previous           835625 non-null float64\n",
      "duration_previous    835625 non-null float64\n",
      "A                    864105 non-null int64\n",
      "B                    864105 non-null int64\n",
      "C                    864105 non-null int64\n",
      "D                    864105 non-null int64\n",
      "E                    864105 non-null int64\n",
      "F                    864105 non-null int64\n",
      "G                    864105 non-null int64\n",
      "cost                 864105 non-null int64\n",
      "dtypes: float64(4), int64(18), object(3)\n",
      "memory usage: 164.8+ MB\n"
     ]
    }
   ],
   "source": [
    "allstate=train.append(test,ignore_index=True)\n",
    "allstate.info()"
   ]
  },
  {
   "cell_type": "markdown",
   "metadata": {},
   "source": [
    "From the info of the given dataset, \"location\", \"car_value\", \"risk_factor\", \"C_previous\", \"duration_previous\" have some missing values.<br>\n",
    "Therefore, it is required to find the missing values.<br>\n",
    "For \"car_value\" we can take the mode of the given data and fill for null values."
   ]
  },
  {
   "cell_type": "code",
   "execution_count": 8,
   "metadata": {},
   "outputs": [
    {
     "data": {
      "text/plain": [
       "count     864105\n",
       "unique         9\n",
       "top            e\n",
       "freq      286101\n",
       "Name: car_value, dtype: object"
      ]
     },
     "execution_count": 8,
     "metadata": {},
     "output_type": "execute_result"
    }
   ],
   "source": [
    "allstate.loc[allstate[\"car_value\"].isnull(),\"car_value\"]= allstate[\"car_value\"].mode()[0]\n",
    "allstate[\"car_value\"].describe()"
   ]
  },
  {
   "cell_type": "code",
   "execution_count": 9,
   "metadata": {},
   "outputs": [
    {
     "data": {
      "text/plain": [
       "count    548200.000000\n",
       "mean          2.560700\n",
       "std           1.111623\n",
       "min           1.000000\n",
       "25%           2.000000\n",
       "50%           3.000000\n",
       "75%           4.000000\n",
       "max           4.000000\n",
       "Name: risk_factor, dtype: float64"
      ]
     },
     "execution_count": 9,
     "metadata": {},
     "output_type": "execute_result"
    }
   ],
   "source": [
    "allstate[\"risk_factor\"].describe()"
   ]
  },
  {
   "cell_type": "code",
   "execution_count": 10,
   "metadata": {},
   "outputs": [
    {
     "data": {
      "text/plain": [
       "0    3.0\n",
       "dtype: float64"
      ]
     },
     "execution_count": 10,
     "metadata": {},
     "output_type": "execute_result"
    }
   ],
   "source": [
    "allstate[\"risk_factor\"].mode()"
   ]
  },
  {
   "cell_type": "markdown",
   "metadata": {},
   "source": [
    "Filling null values in \"risk_factor\" with mode of the data."
   ]
  },
  {
   "cell_type": "code",
   "execution_count": 11,
   "metadata": {},
   "outputs": [
    {
     "data": {
      "text/plain": [
       "count    864105.000000\n",
       "mean          2.721302\n",
       "std           0.910333\n",
       "min           1.000000\n",
       "25%           2.000000\n",
       "50%           3.000000\n",
       "75%           3.000000\n",
       "max           4.000000\n",
       "Name: risk_factor, dtype: float64"
      ]
     },
     "execution_count": 11,
     "metadata": {},
     "output_type": "execute_result"
    }
   ],
   "source": [
    "allstate.loc[allstate[\"risk_factor\"].isnull(),\"risk_factor\"]=allstate[\"risk_factor\"].mode()[0]\n",
    "allstate[\"risk_factor\"].describe()"
   ]
  },
  {
   "cell_type": "code",
   "execution_count": 12,
   "metadata": {},
   "outputs": [
    {
     "data": {
      "text/plain": [
       "count    835625.000000\n",
       "mean          2.442535\n",
       "std           1.034428\n",
       "min           1.000000\n",
       "25%           1.000000\n",
       "50%           3.000000\n",
       "75%           3.000000\n",
       "max           4.000000\n",
       "Name: C_previous, dtype: float64"
      ]
     },
     "execution_count": 12,
     "metadata": {},
     "output_type": "execute_result"
    }
   ],
   "source": [
    "allstate[\"C_previous\"].describe()"
   ]
  },
  {
   "cell_type": "code",
   "execution_count": 13,
   "metadata": {},
   "outputs": [
    {
     "data": {
      "text/plain": [
       "0    3.0\n",
       "dtype: float64"
      ]
     },
     "execution_count": 13,
     "metadata": {},
     "output_type": "execute_result"
    }
   ],
   "source": [
    "allstate[\"C_previous\"].mode()"
   ]
  },
  {
   "cell_type": "markdown",
   "metadata": {},
   "source": [
    "Filling null values in \"C_previous\" with mode of the data."
   ]
  },
  {
   "cell_type": "code",
   "execution_count": 14,
   "metadata": {},
   "outputs": [
    {
     "data": {
      "text/plain": [
       "count    864105.000000\n",
       "mean          2.460908\n",
       "std           1.022096\n",
       "min           1.000000\n",
       "25%           1.000000\n",
       "50%           3.000000\n",
       "75%           3.000000\n",
       "max           4.000000\n",
       "Name: C_previous, dtype: float64"
      ]
     },
     "execution_count": 14,
     "metadata": {},
     "output_type": "execute_result"
    }
   ],
   "source": [
    "allstate.loc[allstate[\"C_previous\"].isnull(),\"C_previous\"]=allstate[\"C_previous\"].mode()[0]\n",
    "allstate[\"C_previous\"].describe()"
   ]
  },
  {
   "cell_type": "code",
   "execution_count": 15,
   "metadata": {},
   "outputs": [
    {
     "data": {
      "text/plain": [
       "count    835625.000000\n",
       "mean          6.073833\n",
       "std           4.678726\n",
       "min           0.000000\n",
       "25%           2.000000\n",
       "50%           5.000000\n",
       "75%           9.000000\n",
       "max          15.000000\n",
       "Name: duration_previous, dtype: float64"
      ]
     },
     "execution_count": 15,
     "metadata": {},
     "output_type": "execute_result"
    }
   ],
   "source": [
    "allstate[\"duration_previous\"].describe()"
   ]
  },
  {
   "cell_type": "markdown",
   "metadata": {},
   "source": [
    "Filling null values in \"duration_previous\" by mean of the data."
   ]
  },
  {
   "cell_type": "code",
   "execution_count": 37,
   "metadata": {},
   "outputs": [
    {
     "data": {
      "text/plain": [
       "count    864105.000000\n",
       "mean          6.073833\n",
       "std           4.600977\n",
       "min           0.000000\n",
       "25%           2.000000\n",
       "50%           5.000000\n",
       "75%           9.000000\n",
       "max          15.000000\n",
       "Name: duration_previous, dtype: float64"
      ]
     },
     "execution_count": 37,
     "metadata": {},
     "output_type": "execute_result"
    }
   ],
   "source": [
    "allstate.loc[allstate[\"duration_previous\"].isnull(),\"duration_previous\"]=allstate[\"duration_previous\"].mean()\n",
    "allstate[\"duration_previous\"].describe()"
   ]
  },
  {
   "cell_type": "markdown",
   "metadata": {},
   "source": [
    "Null values of \"location\" can be filled by filling at the just upper value of \"location\""
   ]
  },
  {
   "cell_type": "code",
   "execution_count": 17,
   "metadata": {},
   "outputs": [
    {
     "name": "stderr",
     "output_type": "stream",
     "text": [
      "C:\\Users\\DELL\\Anaconda3\\lib\\site-packages\\ipykernel_launcher.py:3: SettingWithCopyWarning: \n",
      "A value is trying to be set on a copy of a slice from a DataFrame\n",
      "\n",
      "See the caveats in the documentation: http://pandas.pydata.org/pandas-docs/stable/indexing.html#indexing-view-versus-copy\n",
      "  This is separate from the ipykernel package so we can avoid doing imports until\n"
     ]
    }
   ],
   "source": [
    "for i in range (len(allstate[\"location\"])):\n",
    "    if(np.isnan(allstate[\"location\"][i])):\n",
    "        allstate[\"location\"][i]=allstate[\"location\"][i-1];"
   ]
  },
  {
   "cell_type": "code",
   "execution_count": 16,
   "metadata": {},
   "outputs": [
    {
     "data": {
      "text/plain": [
       "count    863427.000000\n",
       "mean      12283.265509\n",
       "std        1571.341250\n",
       "min       10001.000000\n",
       "25%       10942.000000\n",
       "50%       12039.000000\n",
       "75%       13439.000000\n",
       "max       16581.000000\n",
       "Name: location, dtype: float64"
      ]
     },
     "execution_count": 16,
     "metadata": {},
     "output_type": "execute_result"
    }
   ],
   "source": [
    "allstate[\"location\"].describe()"
   ]
  },
  {
   "cell_type": "code",
   "execution_count": 19,
   "metadata": {},
   "outputs": [],
   "source": [
    "state_dummies = pd.get_dummies(allstate.state,prefix=\"state\")\n",
    "carval_dummies = pd.get_dummies(allstate.car_value,prefix=\"car_value\")"
   ]
  },
  {
   "cell_type": "code",
   "execution_count": 22,
   "metadata": {},
   "outputs": [
    {
     "name": "stdout",
     "output_type": "stream",
     "text": [
      "<class 'pandas.core.frame.DataFrame'>\n",
      "RangeIndex: 864105 entries, 0 to 864104\n",
      "Data columns (total 67 columns):\n",
      "customer_ID          864105 non-null int64\n",
      "shopping_pt          864105 non-null int64\n",
      "record_type          864105 non-null int64\n",
      "day                  864105 non-null int64\n",
      "location             864105 non-null float64\n",
      "group_size           864105 non-null int64\n",
      "homeowner            864105 non-null int64\n",
      "car_age              864105 non-null int64\n",
      "risk_factor          864105 non-null float64\n",
      "age_oldest           864105 non-null int64\n",
      "age_youngest         864105 non-null int64\n",
      "married_couple       864105 non-null int64\n",
      "C_previous           864105 non-null float64\n",
      "duration_previous    864105 non-null float64\n",
      "A                    864105 non-null int64\n",
      "B                    864105 non-null int64\n",
      "C                    864105 non-null int64\n",
      "D                    864105 non-null int64\n",
      "E                    864105 non-null int64\n",
      "F                    864105 non-null int64\n",
      "G                    864105 non-null int64\n",
      "cost                 864105 non-null int64\n",
      "state_AL             864105 non-null uint8\n",
      "state_AR             864105 non-null uint8\n",
      "state_CO             864105 non-null uint8\n",
      "state_CT             864105 non-null uint8\n",
      "state_DC             864105 non-null uint8\n",
      "state_DE             864105 non-null uint8\n",
      "state_FL             864105 non-null uint8\n",
      "state_GA             864105 non-null uint8\n",
      "state_IA             864105 non-null uint8\n",
      "state_ID             864105 non-null uint8\n",
      "state_IN             864105 non-null uint8\n",
      "state_KS             864105 non-null uint8\n",
      "state_KY             864105 non-null uint8\n",
      "state_MD             864105 non-null uint8\n",
      "state_ME             864105 non-null uint8\n",
      "state_MO             864105 non-null uint8\n",
      "state_MS             864105 non-null uint8\n",
      "state_MT             864105 non-null uint8\n",
      "state_ND             864105 non-null uint8\n",
      "state_NE             864105 non-null uint8\n",
      "state_NH             864105 non-null uint8\n",
      "state_NM             864105 non-null uint8\n",
      "state_NV             864105 non-null uint8\n",
      "state_NY             864105 non-null uint8\n",
      "state_OH             864105 non-null uint8\n",
      "state_OK             864105 non-null uint8\n",
      "state_OR             864105 non-null uint8\n",
      "state_PA             864105 non-null uint8\n",
      "state_RI             864105 non-null uint8\n",
      "state_SD             864105 non-null uint8\n",
      "state_TN             864105 non-null uint8\n",
      "state_UT             864105 non-null uint8\n",
      "state_WA             864105 non-null uint8\n",
      "state_WI             864105 non-null uint8\n",
      "state_WV             864105 non-null uint8\n",
      "state_WY             864105 non-null uint8\n",
      "car_value_a          864105 non-null uint8\n",
      "car_value_b          864105 non-null uint8\n",
      "car_value_c          864105 non-null uint8\n",
      "car_value_d          864105 non-null uint8\n",
      "car_value_e          864105 non-null uint8\n",
      "car_value_f          864105 non-null uint8\n",
      "car_value_g          864105 non-null uint8\n",
      "car_value_h          864105 non-null uint8\n",
      "car_value_i          864105 non-null uint8\n",
      "dtypes: float64(4), int64(18), uint8(45)\n",
      "memory usage: 182.1 MB\n"
     ]
    }
   ],
   "source": [
    "allstate=pd.concat([allstate,state_dummies,carval_dummies],axis=1)\n",
    "allstate.drop('car_value',axis=1,inplace=True)\n",
    "allstate.drop('state',axis=1,inplace=True)\n",
    "allstate.info()"
   ]
  },
  {
   "cell_type": "code",
   "execution_count": 21,
   "metadata": {},
   "outputs": [],
   "source": [
    "allstate.drop('time',axis=1,inplace=True)"
   ]
  },
  {
   "cell_type": "code",
   "execution_count": 41,
   "metadata": {},
   "outputs": [],
   "source": [
    "train = allstate[:train_idx]\n",
    "test = allstate[train_idx:]"
   ]
  },
  {
   "cell_type": "markdown",
   "metadata": {},
   "source": [
    "Histogram of Cost of Insurance"
   ]
  },
  {
   "cell_type": "code",
   "execution_count": 42,
   "metadata": {},
   "outputs": [
    {
     "data": {
      "text/plain": [
       "<matplotlib.axes._subplots.AxesSubplot at 0x2878ba6d9b0>"
      ]
     },
     "execution_count": 42,
     "metadata": {},
     "output_type": "execute_result"
    },
    {
     "data": {
      "image/png": "[encoded data removed]",
      "text/plain": [
       "<Figure size 432x288 with 1 Axes>"
      ]
     },
     "metadata": {
      "needs_background": "light"
     },
     "output_type": "display_data"
    }
   ],
   "source": [
    "train[[\"cost\"]].plot(kind=\"hist\")"
   ]
  },
  {
   "cell_type": "markdown",
   "metadata": {},
   "source": [
    "Insurance Cost and Car Age"
   ]
  },
  {
   "cell_type": "code",
   "execution_count": 43,
   "metadata": {},
   "outputs": [
    {
     "data": {
      "text/plain": [
       "Text(0.5,1,'Cost Vs Car Age')"
      ]
     },
     "execution_count": 43,
     "metadata": {},
     "output_type": "execute_result"
    },
    {
     "data": {
      "image/png": "[encoded data removed]",
      "text/plain": [
       "<Figure size 432x288 with 1 Axes>"
      ]
     },
     "metadata": {
      "needs_background": "light"
     },
     "output_type": "display_data"
    }
   ],
   "source": [
    "cost_age = train[[\"cost\",\"car_age\"]].groupby(\"car_age\").mean()\n",
    "\n",
    "plt.plot(cost_age)\n",
    "\n",
    "plt.xlabel(\"Car Age\")\n",
    "\n",
    "plt.ylabel(\"Cost\")\n",
    "\n",
    "plt.title(\"Cost Vs Car Age\")"
   ]
  },
  {
   "cell_type": "markdown",
   "metadata": {},
   "source": [
    "Cost Correlation with other parameters"
   ]
  },
  {
   "cell_type": "code",
   "execution_count": 44,
   "metadata": {},
   "outputs": [
    {
     "data": {
      "text/plain": [
       "customer_ID         -0.002250\n",
       "shopping_pt          0.043419\n",
       "record_type         -0.011826\n",
       "day                  0.010793\n",
       "location             0.002413\n",
       "group_size          -0.024009\n",
       "homeowner           -0.213846\n",
       "car_age             -0.281002\n",
       "risk_factor          0.118576\n",
       "age_oldest          -0.210225\n",
       "age_youngest        -0.238497\n",
       "married_couple      -0.075193\n",
       "C_previous          -0.077188\n",
       "duration_previous   -0.161465\n",
       "A                    0.325922\n",
       "B                    0.118573\n",
       "C                   -0.033931\n",
       "D                    0.002963\n",
       "E                    0.259183\n",
       "F                    0.141707\n",
       "G                   -0.011274\n",
       "cost                 1.000000\n",
       "state_AL            -0.060891\n",
       "state_AR            -0.007378\n",
       "state_CO            -0.029220\n",
       "state_CT             0.045271\n",
       "state_DC             0.034928\n",
       "state_DE             0.044324\n",
       "state_FL             0.036308\n",
       "state_GA             0.006334\n",
       "                       ...   \n",
       "state_MO            -0.075229\n",
       "state_MS             0.004833\n",
       "state_MT            -0.014271\n",
       "state_ND            -0.000521\n",
       "state_NE            -0.039080\n",
       "state_NH            -0.037334\n",
       "state_NM            -0.007462\n",
       "state_NV             0.054932\n",
       "state_NY             0.171447\n",
       "state_OH            -0.097855\n",
       "state_OK            -0.025144\n",
       "state_OR            -0.040590\n",
       "state_PA             0.035371\n",
       "state_RI             0.032011\n",
       "state_SD            -0.008846\n",
       "state_TN            -0.027033\n",
       "state_UT            -0.063638\n",
       "state_WA            -0.001766\n",
       "state_WI            -0.098693\n",
       "state_WV             0.015336\n",
       "state_WY            -0.019804\n",
       "car_value_a         -0.031606\n",
       "car_value_b         -0.042056\n",
       "car_value_c         -0.074460\n",
       "car_value_d         -0.030152\n",
       "car_value_e         -0.010928\n",
       "car_value_f         -0.011905\n",
       "car_value_g          0.048859\n",
       "car_value_h          0.075926\n",
       "car_value_i          0.069651\n",
       "Name: cost, Length: 67, dtype: float64"
      ]
     },
     "execution_count": 44,
     "metadata": {},
     "output_type": "execute_result"
    }
   ],
   "source": [
    "train.corr()[\"cost\"]"
   ]
  },
  {
   "cell_type": "markdown",
   "metadata": {},
   "source": [
    "Frequence distribution of Cost correlation"
   ]
  },
  {
   "cell_type": "code",
   "execution_count": 45,
   "metadata": {},
   "outputs": [
    {
     "data": {
      "text/plain": [
       "<matplotlib.axes._subplots.AxesSubplot at 0x2878c020390>"
      ]
     },
     "execution_count": 45,
     "metadata": {},
     "output_type": "execute_result"
    },
    {
     "data": {
      "image/png": "[encoded data removed]",
      "text/plain": [
       "<Figure size 432x288 with 1 Axes>"
      ]
     },
     "metadata": {
      "needs_background": "light"
     },
     "output_type": "display_data"
    }
   ],
   "source": [
    "train.corr()[\"cost\"].plot.bar()"
   ]
  },
  {
   "cell_type": "markdown",
   "metadata": {},
   "source": [
    "Cost and Risk Factor"
   ]
  },
  {
   "cell_type": "code",
   "execution_count": 46,
   "metadata": {},
   "outputs": [
    {
     "data": {
      "text/plain": [
       "Text(0.5,1,' Cost ans Risk Factor')"
      ]
     },
     "execution_count": 46,
     "metadata": {},
     "output_type": "execute_result"
    },
    {
     "data": {
      "image/png": "[encoded data removed]",
      "text/plain": [
       "<Figure size 432x288 with 1 Axes>"
      ]
     },
     "metadata": {
      "needs_background": "light"
     },
     "output_type": "display_data"
    }
   ],
   "source": [
    "plt.plot(train[[\"cost\",\"risk_factor\"]].groupby(\"risk_factor\").mean())\n",
    "\n",
    "plt.xlabel(\"Risk Factor\")\n",
    "\n",
    "plt.ylabel(\"Cost\")\n",
    "\n",
    "plt.title(\" Cost ans Risk Factor\")"
   ]
  },
  {
   "cell_type": "markdown",
   "metadata": {},
   "source": [
    "1. Cost goes down as Age increases.<br>\n",
    "2. Cost increases as Risk Factor increases.<br>\n",
    "3. Also A,B,E,F increases with Cost.<br><br>\n",
    "\n",
    "Correlation of A with other parameters<br>"
   ]
  },
  {
   "cell_type": "code",
   "execution_count": 47,
   "metadata": {
    "scrolled": true
   },
   "outputs": [
    {
     "data": {
      "text/plain": [
       "customer_ID         -0.002306\n",
       "shopping_pt          0.052803\n",
       "record_type          0.012162\n",
       "day                 -0.001005\n",
       "location            -0.003494\n",
       "group_size           0.017806\n",
       "homeowner            0.048471\n",
       "car_age             -0.436740\n",
       "risk_factor         -0.056620\n",
       "age_oldest           0.003914\n",
       "age_youngest         0.005199\n",
       "married_couple       0.023021\n",
       "C_previous           0.115207\n",
       "duration_previous    0.029747\n",
       "A                    1.000000\n",
       "B                    0.158040\n",
       "C                    0.190519\n",
       "D                    0.189351\n",
       "E                    0.324618\n",
       "F                    0.531186\n",
       "G                    0.045335\n",
       "cost                 0.325922\n",
       "state_AL            -0.028065\n",
       "state_AR            -0.011290\n",
       "state_CO             0.015361\n",
       "state_CT            -0.040975\n",
       "state_DC            -0.037602\n",
       "state_DE            -0.012192\n",
       "state_FL             0.056665\n",
       "state_GA            -0.017312\n",
       "                       ...   \n",
       "state_MO             0.004936\n",
       "state_MS            -0.023487\n",
       "state_MT            -0.000021\n",
       "state_ND            -0.024779\n",
       "state_NE            -0.009013\n",
       "state_NH            -0.008306\n",
       "state_NM            -0.009850\n",
       "state_NV             0.058436\n",
       "state_NY             0.052593\n",
       "state_OH            -0.021807\n",
       "state_OK             0.019778\n",
       "state_OR            -0.023598\n",
       "state_PA            -0.009602\n",
       "state_RI            -0.024605\n",
       "state_SD            -0.002212\n",
       "state_TN             0.001961\n",
       "state_UT             0.001006\n",
       "state_WA             0.004472\n",
       "state_WI             0.038121\n",
       "state_WV            -0.012621\n",
       "state_WY            -0.009294\n",
       "car_value_a         -0.037354\n",
       "car_value_b         -0.050192\n",
       "car_value_c         -0.118826\n",
       "car_value_d         -0.068154\n",
       "car_value_e         -0.018897\n",
       "car_value_f          0.044796\n",
       "car_value_g          0.072197\n",
       "car_value_h          0.055041\n",
       "car_value_i          0.032691\n",
       "Name: A, Length: 67, dtype: float64"
      ]
     },
     "execution_count": 47,
     "metadata": {},
     "output_type": "execute_result"
    }
   ],
   "source": [
    "train.corr()['A']"
   ]
  },
  {
   "cell_type": "code",
   "execution_count": 48,
   "metadata": {},
   "outputs": [
    {
     "data": {
      "text/plain": [
       "<matplotlib.axes._subplots.AxesSubplot at 0x2878c1bb908>"
      ]
     },
     "execution_count": 48,
     "metadata": {},
     "output_type": "execute_result"
    },
    {
     "data": {
      "image/png": "[encoded data removed]",
      "text/plain": [
       "<Figure size 432x288 with 1 Axes>"
      ]
     },
     "metadata": {
      "needs_background": "light"
     },
     "output_type": "display_data"
    }
   ],
   "source": [
    "train.corr()['A'].plot.bar()"
   ]
  },
  {
   "cell_type": "markdown",
   "metadata": {},
   "source": [
    "Correlation of B with other parameters"
   ]
  },
  {
   "cell_type": "code",
   "execution_count": 49,
   "metadata": {
    "scrolled": true
   },
   "outputs": [
    {
     "data": {
      "text/plain": [
       "customer_ID         -0.003188\n",
       "shopping_pt          0.046609\n",
       "record_type          0.018135\n",
       "day                  0.001314\n",
       "location            -0.007643\n",
       "group_size           0.027647\n",
       "homeowner            0.033747\n",
       "car_age             -0.089334\n",
       "risk_factor         -0.014859\n",
       "age_oldest           0.025027\n",
       "age_youngest         0.017528\n",
       "married_couple       0.020741\n",
       "C_previous           0.028490\n",
       "duration_previous    0.006354\n",
       "A                    0.158040\n",
       "B                    1.000000\n",
       "C                    0.093611\n",
       "D                    0.122656\n",
       "E                    0.461271\n",
       "F                    0.128231\n",
       "G                    0.024826\n",
       "cost                 0.118573\n",
       "state_AL             0.093077\n",
       "state_AR             0.022732\n",
       "state_CO             0.003526\n",
       "state_CT            -0.084679\n",
       "state_DC             0.002724\n",
       "state_DE             0.001935\n",
       "state_FL             0.011277\n",
       "state_GA             0.019864\n",
       "                       ...   \n",
       "state_MO            -0.004922\n",
       "state_MS             0.039143\n",
       "state_MT            -0.003871\n",
       "state_ND            -0.039313\n",
       "state_NE            -0.015493\n",
       "state_NH            -0.015063\n",
       "state_NM            -0.024338\n",
       "state_NV             0.025429\n",
       "state_NY            -0.015465\n",
       "state_OH            -0.013726\n",
       "state_OK            -0.041059\n",
       "state_OR             0.008412\n",
       "state_PA            -0.057975\n",
       "state_RI            -0.037333\n",
       "state_SD            -0.001612\n",
       "state_TN             0.081743\n",
       "state_UT             0.046564\n",
       "state_WA            -0.005414\n",
       "state_WI            -0.019037\n",
       "state_WV             0.019881\n",
       "state_WY             0.003810\n",
       "car_value_a         -0.013821\n",
       "car_value_b         -0.012169\n",
       "car_value_c         -0.029497\n",
       "car_value_d         -0.022383\n",
       "car_value_e         -0.002591\n",
       "car_value_f          0.012932\n",
       "car_value_g          0.020387\n",
       "car_value_h          0.012722\n",
       "car_value_i          0.004788\n",
       "Name: B, Length: 67, dtype: float64"
      ]
     },
     "execution_count": 49,
     "metadata": {},
     "output_type": "execute_result"
    }
   ],
   "source": [
    "train.corr()['B']"
   ]
  },
  {
   "cell_type": "code",
   "execution_count": 51,
   "metadata": {},
   "outputs": [
    {
     "data": {
      "text/plain": [
       "<matplotlib.axes._subplots.AxesSubplot at 0x2878c4617f0>"
      ]
     },
     "execution_count": 51,
     "metadata": {},
     "output_type": "execute_result"
    },
    {
     "data": {
      "image/png": "[encoded data removed]",
      "text/plain": [
       "<Figure size 432x288 with 1 Axes>"
      ]
     },
     "metadata": {
      "needs_background": "light"
     },
     "output_type": "display_data"
    }
   ],
   "source": [
    "train.corr()['B'].plot.bar()"
   ]
  },
  {
   "cell_type": "markdown",
   "metadata": {},
   "source": [
    "Correlation of C with other parameters"
   ]
  },
  {
   "cell_type": "code",
   "execution_count": 50,
   "metadata": {},
   "outputs": [
    {
     "data": {
      "text/plain": [
       "<matplotlib.axes._subplots.AxesSubplot at 0x2878c1f7cc0>"
      ]
     },
     "execution_count": 50,
     "metadata": {},
     "output_type": "execute_result"
    },
    {
     "data": {
      "image/png": "[encoded data removed]",
      "text/plain": [
       "<Figure size 432x288 with 1 Axes>"
      ]
     },
     "metadata": {
      "needs_background": "light"
     },
     "output_type": "display_data"
    }
   ],
   "source": [
    "train.corr()['C'].plot.bar()"
   ]
  },
  {
   "cell_type": "markdown",
   "metadata": {},
   "source": [
    "Correlation of D with other parameters"
   ]
  },
  {
   "cell_type": "code",
   "execution_count": 53,
   "metadata": {
    "scrolled": true
   },
   "outputs": [
    {
     "data": {
      "text/plain": [
       "<matplotlib.axes._subplots.AxesSubplot at 0x2878c783c88>"
      ]
     },
     "execution_count": 53,
     "metadata": {},
     "output_type": "execute_result"
    },
    {
     "data": {
      "image/png": "[encoded data removed]",
      "text/plain": [
       "<Figure size 432x288 with 1 Axes>"
      ]
     },
     "metadata": {
      "needs_background": "light"
     },
     "output_type": "display_data"
    }
   ],
   "source": [
    "train.corr()['D'].plot.bar()"
   ]
  },
  {
   "cell_type": "markdown",
   "metadata": {},
   "source": [
    "Correlation of E with other parameters"
   ]
  },
  {
   "cell_type": "code",
   "execution_count": 52,
   "metadata": {},
   "outputs": [
    {
     "data": {
      "text/plain": [
       "<matplotlib.axes._subplots.AxesSubplot at 0x2878c5e2f60>"
      ]
     },
     "execution_count": 52,
     "metadata": {},
     "output_type": "execute_result"
    },
    {
     "data": {
      "image/png": "[encoded data removed]",
      "text/plain": [
       "<Figure size 432x288 with 1 Axes>"
      ]
     },
     "metadata": {
      "needs_background": "light"
     },
     "output_type": "display_data"
    }
   ],
   "source": [
    "train.corr()['E'].plot.bar()"
   ]
  },
  {
   "cell_type": "markdown",
   "metadata": {
    "collapsed": true
   },
   "source": [
    "Coverage A vs Car Age"
   ]
  },
  {
   "cell_type": "code",
   "execution_count": 54,
   "metadata": {},
   "outputs": [
    {
     "data": {
      "text/plain": [
       "Text(0.5,1,' Coverage A VS. Car Age')"
      ]
     },
     "execution_count": 54,
     "metadata": {},
     "output_type": "execute_result"
    },
    {
     "data": {
      "image/png": "[encoded data removed]",
      "text/plain": [
       "<Figure size 432x288 with 1 Axes>"
      ]
     },
     "metadata": {
      "needs_background": "light"
     },
     "output_type": "display_data"
    }
   ],
   "source": [
    "plt.plot(train[[\"A\",\"car_age\"]].groupby(\"car_age\").mean())\n",
    "\n",
    "plt.xlabel(\"Car Age\")\n",
    "\n",
    "plt.ylabel(\"Coverage A\")\n",
    "\n",
    "plt.title(\" Coverage A VS. Car Age\")"
   ]
  },
  {
   "cell_type": "markdown",
   "metadata": {},
   "source": [
    "Coverage A is favourable for new cars"
   ]
  },
  {
   "cell_type": "code",
   "execution_count": 56,
   "metadata": {},
   "outputs": [],
   "source": [
    "X_TEST=train.copy()\n",
    "\n",
    "X_TEST.drop(['customer_ID','day','location','A','B','C','D','E','F','G'],axis=1,inplace=True)\n",
    "\n",
    "y_A=train.A.values\n"
   ]
  },
  {
   "cell_type": "markdown",
   "metadata": {},
   "source": [
    "Logistic Regression Model"
   ]
  },
  {
   "cell_type": "code",
   "execution_count": 57,
   "metadata": {},
   "outputs": [
    {
     "name": "stderr",
     "output_type": "stream",
     "text": [
      "C:\\Users\\DELL\\Anaconda3\\lib\\site-packages\\sklearn\\linear_model\\logistic.py:432: FutureWarning: Default solver will be changed to 'lbfgs' in 0.22. Specify a solver to silence this warning.\n",
      "  FutureWarning)\n",
      "C:\\Users\\DELL\\Anaconda3\\lib\\site-packages\\sklearn\\linear_model\\logistic.py:459: FutureWarning: Default multi_class will be changed to 'auto' in 0.22. Specify the multi_class option to silence this warning.\n",
      "  \"this warning.\", FutureWarning)\n"
     ]
    },
    {
     "data": {
      "text/plain": [
       "0.7411149810071116"
      ]
     },
     "execution_count": 57,
     "metadata": {},
     "output_type": "execute_result"
    }
   ],
   "source": [
    "lr=LogisticRegression(C=1000.0,random_state=0)\n",
    "lr.fit(X_TEST,y_A)\n",
    "lr.score(X_TEST,y_A)"
   ]
  },
  {
   "cell_type": "code",
   "execution_count": 58,
   "metadata": {},
   "outputs": [
    {
     "name": "stderr",
     "output_type": "stream",
     "text": [
      "C:\\Users\\DELL\\Anaconda3\\lib\\site-packages\\sklearn\\linear_model\\logistic.py:432: FutureWarning: Default solver will be changed to 'lbfgs' in 0.22. Specify a solver to silence this warning.\n",
      "  FutureWarning)\n"
     ]
    },
    {
     "data": {
      "text/plain": [
       "0.60865781083474"
      ]
     },
     "execution_count": 58,
     "metadata": {},
     "output_type": "execute_result"
    }
   ],
   "source": [
    "y_B = train.B.values\n",
    "lr.fit(X_TEST,y_B)\n",
    "lr.score(X_TEST,y_B)"
   ]
  },
  {
   "cell_type": "code",
   "execution_count": 59,
   "metadata": {},
   "outputs": [
    {
     "name": "stderr",
     "output_type": "stream",
     "text": [
      "C:\\Users\\DELL\\Anaconda3\\lib\\site-packages\\sklearn\\linear_model\\logistic.py:432: FutureWarning: Default solver will be changed to 'lbfgs' in 0.22. Specify a solver to silence this warning.\n",
      "  FutureWarning)\n",
      "C:\\Users\\DELL\\Anaconda3\\lib\\site-packages\\sklearn\\linear_model\\logistic.py:459: FutureWarning: Default multi_class will be changed to 'auto' in 0.22. Specify the multi_class option to silence this warning.\n",
      "  \"this warning.\", FutureWarning)\n"
     ]
    },
    {
     "data": {
      "text/plain": [
       "0.6175612439853349"
      ]
     },
     "execution_count": 59,
     "metadata": {},
     "output_type": "execute_result"
    }
   ],
   "source": [
    "y_C = train.C.values\n",
    "lr.fit(X_TEST,y_C)\n",
    "lr.score(X_TEST,y_C)"
   ]
  },
  {
   "cell_type": "code",
   "execution_count": 60,
   "metadata": {},
   "outputs": [
    {
     "name": "stderr",
     "output_type": "stream",
     "text": [
      "C:\\Users\\DELL\\Anaconda3\\lib\\site-packages\\sklearn\\linear_model\\logistic.py:432: FutureWarning: Default solver will be changed to 'lbfgs' in 0.22. Specify a solver to silence this warning.\n",
      "  FutureWarning)\n",
      "C:\\Users\\DELL\\Anaconda3\\lib\\site-packages\\sklearn\\linear_model\\logistic.py:459: FutureWarning: Default multi_class will be changed to 'auto' in 0.22. Specify the multi_class option to silence this warning.\n",
      "  \"this warning.\", FutureWarning)\n"
     ]
    },
    {
     "data": {
      "text/plain": [
       "0.6582527745250275"
      ]
     },
     "execution_count": 60,
     "metadata": {},
     "output_type": "execute_result"
    }
   ],
   "source": [
    "y_D = train.D.values\n",
    "lr.fit(X_TEST,y_D)\n",
    "lr.score(X_TEST,y_D)"
   ]
  },
  {
   "cell_type": "code",
   "execution_count": 61,
   "metadata": {},
   "outputs": [
    {
     "name": "stderr",
     "output_type": "stream",
     "text": [
      "C:\\Users\\DELL\\Anaconda3\\lib\\site-packages\\sklearn\\linear_model\\logistic.py:432: FutureWarning: Default solver will be changed to 'lbfgs' in 0.22. Specify a solver to silence this warning.\n",
      "  FutureWarning)\n"
     ]
    },
    {
     "data": {
      "text/plain": [
       "0.6794929417406114"
      ]
     },
     "execution_count": 61,
     "metadata": {},
     "output_type": "execute_result"
    }
   ],
   "source": [
    "y_E = train.E.values\n",
    "lr.fit(X_TEST,y_E)\n",
    "lr.score(X_TEST,y_E)"
   ]
  },
  {
   "cell_type": "code",
   "execution_count": 62,
   "metadata": {},
   "outputs": [
    {
     "name": "stderr",
     "output_type": "stream",
     "text": [
      "C:\\Users\\DELL\\Anaconda3\\lib\\site-packages\\sklearn\\linear_model\\logistic.py:432: FutureWarning: Default solver will be changed to 'lbfgs' in 0.22. Specify a solver to silence this warning.\n",
      "  FutureWarning)\n",
      "C:\\Users\\DELL\\Anaconda3\\lib\\site-packages\\sklearn\\linear_model\\logistic.py:459: FutureWarning: Default multi_class will be changed to 'auto' in 0.22. Specify the multi_class option to silence this warning.\n",
      "  \"this warning.\", FutureWarning)\n"
     ]
    },
    {
     "data": {
      "text/plain": [
       "0.6510479534730604"
      ]
     },
     "execution_count": 62,
     "metadata": {},
     "output_type": "execute_result"
    }
   ],
   "source": [
    "y_F = train.F.values\n",
    "lr.fit(X_TEST,y_F)\n",
    "lr.score(X_TEST,y_F)"
   ]
  },
  {
   "cell_type": "code",
   "execution_count": 63,
   "metadata": {},
   "outputs": [
    {
     "name": "stderr",
     "output_type": "stream",
     "text": [
      "C:\\Users\\DELL\\Anaconda3\\lib\\site-packages\\sklearn\\linear_model\\logistic.py:432: FutureWarning: Default solver will be changed to 'lbfgs' in 0.22. Specify a solver to silence this warning.\n",
      "  FutureWarning)\n",
      "C:\\Users\\DELL\\Anaconda3\\lib\\site-packages\\sklearn\\linear_model\\logistic.py:459: FutureWarning: Default multi_class will be changed to 'auto' in 0.22. Specify the multi_class option to silence this warning.\n",
      "  \"this warning.\", FutureWarning)\n"
     ]
    },
    {
     "data": {
      "text/plain": [
       "0.5938077321424008"
      ]
     },
     "execution_count": 63,
     "metadata": {},
     "output_type": "execute_result"
    }
   ],
   "source": [
    "y_G = train.G.values\n",
    "lr.fit(X_TEST,y_G)\n",
    "lr.score(X_TEST,y_G)"
   ]
  },
  {
   "cell_type": "code",
   "execution_count": null,
   "metadata": {},
   "outputs": [],
   "source": []
  }
 ],
 "metadata": {
  "kernelspec": {
   "display_name": "Python 3",
   "language": "python",
   "name": "python3"
  },
  "language_info": {
   "codemirror_mode": {
    "name": "ipython",
    "version": 3
   },
   "file_extension": ".py",
   "mimetype": "text/x-python",
   "name": "python",
   "nbconvert_exporter": "python",
   "pygments_lexer": "ipython3",
   "version": "3.6.5"
  }
 },
 "nbformat": 4,
 "nbformat_minor": 2
}
